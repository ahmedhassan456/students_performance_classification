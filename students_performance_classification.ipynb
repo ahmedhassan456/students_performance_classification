{
 "cells": [
  {
   "cell_type": "markdown",
   "id": "2a3c2eed-8405-4649-9377-1d0bf59d45a6",
   "metadata": {},
   "source": [
    "<div style=\"border-radius:10px; border:#DEB887 solid; padding: 15px; background-color: #180161; font-size:100%; text-align:left; color:white\">\n",
    "\n",
    "<h3 align=\"center\"><font color='#DAA520'>💡 About the Dataset</font></h3>\n",
    "    \n",
    "This dataset contains comprehensive information on 2,392 high school students, detailing their demographics, study habits, parental involvement, extracurricular activities, and academic performance. The target variable **GradeClass**, classifies students' grades into distinct categories, providing a robust dataset for educational research, predictive modeling, and statistical analysis."
   ]
  },
  {
   "cell_type": "markdown",
   "id": "e3675d17-88b0-44f6-9b0e-0aaf7bb7cda4",
   "metadata": {},
   "source": [
    "<div style=\"background-color: #180161; color: white; padding: 20px; border-radius: 10px;\">\n",
    "    <h2 style=\"text-align: center\">Import Necessary Libraries</h2>\n",
    "</div>"
   ]
  },
  {
   "cell_type": "code",
   "execution_count": 1,
   "id": "c3e6f5d3-78ec-485f-9c1f-2bf5830eb072",
   "metadata": {},
   "outputs": [],
   "source": [
    "import numpy as np\n",
    "import pandas as pd\n",
    "import matplotlib.pyplot as plt\n",
    "import seaborn as sns\n",
    "\n",
    "from sklearn.model_selection import train_test_split\n",
    "from sklearn.ensemble import RandomForestClassifier, VotingClassifier\n",
    "from sklearn.metrics import accuracy_score, classification_report\n",
    "from xgboost import XGBClassifier\n",
    "from lightgbm import LGBMClassifier\n",
    "\n",
    "import warnings\n",
    "warnings.filterwarnings(\"ignore\")"
   ]
  },
  {
   "cell_type": "markdown",
   "id": "97e6c0a9-ecd7-4fdf-beb6-1ba9c38995a4",
   "metadata": {},
   "source": [
    "<div style=\"background-color: #180161; color: white; padding: 20px; border-radius: 10px;\">\n",
    "    <h2 style=\"text-align: center\">Load the Data</h2>\n",
    "</div>"
   ]
  },
  {
   "cell_type": "code",
   "execution_count": 2,
   "id": "9ebd3cad-d18c-48d4-9196-68700cd32c60",
   "metadata": {},
   "outputs": [],
   "source": [
    "df = pd.read_csv(\"data/Student_performance_data _.csv\")"
   ]
  },
  {
   "cell_type": "code",
   "execution_count": 3,
   "id": "3fa664bc-376a-43d9-9454-92f761d7b302",
   "metadata": {},
   "outputs": [
    {
     "data": {
      "text/html": [
       "<div>\n",
       "<style scoped>\n",
       "    .dataframe tbody tr th:only-of-type {\n",
       "        vertical-align: middle;\n",
       "    }\n",
       "\n",
       "    .dataframe tbody tr th {\n",
       "        vertical-align: top;\n",
       "    }\n",
       "\n",
       "    .dataframe thead th {\n",
       "        text-align: right;\n",
       "    }\n",
       "</style>\n",
       "<table border=\"1\" class=\"dataframe\">\n",
       "  <thead>\n",
       "    <tr style=\"text-align: right;\">\n",
       "      <th></th>\n",
       "      <th>StudentID</th>\n",
       "      <th>Age</th>\n",
       "      <th>Gender</th>\n",
       "      <th>Ethnicity</th>\n",
       "      <th>ParentalEducation</th>\n",
       "      <th>StudyTimeWeekly</th>\n",
       "      <th>Absences</th>\n",
       "      <th>Tutoring</th>\n",
       "      <th>ParentalSupport</th>\n",
       "      <th>Extracurricular</th>\n",
       "      <th>Sports</th>\n",
       "      <th>Music</th>\n",
       "      <th>Volunteering</th>\n",
       "      <th>GPA</th>\n",
       "      <th>GradeClass</th>\n",
       "    </tr>\n",
       "  </thead>\n",
       "  <tbody>\n",
       "    <tr>\n",
       "      <th>0</th>\n",
       "      <td>1001</td>\n",
       "      <td>17</td>\n",
       "      <td>1</td>\n",
       "      <td>0</td>\n",
       "      <td>2</td>\n",
       "      <td>19.833723</td>\n",
       "      <td>7</td>\n",
       "      <td>1</td>\n",
       "      <td>2</td>\n",
       "      <td>0</td>\n",
       "      <td>0</td>\n",
       "      <td>1</td>\n",
       "      <td>0</td>\n",
       "      <td>2.929196</td>\n",
       "      <td>2.0</td>\n",
       "    </tr>\n",
       "    <tr>\n",
       "      <th>1</th>\n",
       "      <td>1002</td>\n",
       "      <td>18</td>\n",
       "      <td>0</td>\n",
       "      <td>0</td>\n",
       "      <td>1</td>\n",
       "      <td>15.408756</td>\n",
       "      <td>0</td>\n",
       "      <td>0</td>\n",
       "      <td>1</td>\n",
       "      <td>0</td>\n",
       "      <td>0</td>\n",
       "      <td>0</td>\n",
       "      <td>0</td>\n",
       "      <td>3.042915</td>\n",
       "      <td>1.0</td>\n",
       "    </tr>\n",
       "    <tr>\n",
       "      <th>2</th>\n",
       "      <td>1003</td>\n",
       "      <td>15</td>\n",
       "      <td>0</td>\n",
       "      <td>2</td>\n",
       "      <td>3</td>\n",
       "      <td>4.210570</td>\n",
       "      <td>26</td>\n",
       "      <td>0</td>\n",
       "      <td>2</td>\n",
       "      <td>0</td>\n",
       "      <td>0</td>\n",
       "      <td>0</td>\n",
       "      <td>0</td>\n",
       "      <td>0.112602</td>\n",
       "      <td>4.0</td>\n",
       "    </tr>\n",
       "    <tr>\n",
       "      <th>3</th>\n",
       "      <td>1004</td>\n",
       "      <td>17</td>\n",
       "      <td>1</td>\n",
       "      <td>0</td>\n",
       "      <td>3</td>\n",
       "      <td>10.028829</td>\n",
       "      <td>14</td>\n",
       "      <td>0</td>\n",
       "      <td>3</td>\n",
       "      <td>1</td>\n",
       "      <td>0</td>\n",
       "      <td>0</td>\n",
       "      <td>0</td>\n",
       "      <td>2.054218</td>\n",
       "      <td>3.0</td>\n",
       "    </tr>\n",
       "    <tr>\n",
       "      <th>4</th>\n",
       "      <td>1005</td>\n",
       "      <td>17</td>\n",
       "      <td>1</td>\n",
       "      <td>0</td>\n",
       "      <td>2</td>\n",
       "      <td>4.672495</td>\n",
       "      <td>17</td>\n",
       "      <td>1</td>\n",
       "      <td>3</td>\n",
       "      <td>0</td>\n",
       "      <td>0</td>\n",
       "      <td>0</td>\n",
       "      <td>0</td>\n",
       "      <td>1.288061</td>\n",
       "      <td>4.0</td>\n",
       "    </tr>\n",
       "  </tbody>\n",
       "</table>\n",
       "</div>"
      ],
      "text/plain": [
       "   StudentID  Age  Gender  Ethnicity  ParentalEducation  ...  Sports  Music  Volunteering       GPA  GradeClass\n",
       "0       1001   17       1          0                  2  ...       0      1             0  2.929196         2.0\n",
       "1       1002   18       0          0                  1  ...       0      0             0  3.042915         1.0\n",
       "2       1003   15       0          2                  3  ...       0      0             0  0.112602         4.0\n",
       "3       1004   17       1          0                  3  ...       0      0             0  2.054218         3.0\n",
       "4       1005   17       1          0                  2  ...       0      0             0  1.288061         4.0\n",
       "\n",
       "[5 rows x 15 columns]"
      ]
     },
     "execution_count": 3,
     "metadata": {},
     "output_type": "execute_result"
    }
   ],
   "source": [
    "df.head()"
   ]
  },
  {
   "cell_type": "markdown",
   "id": "2bd980a6-56ee-4750-a402-8cf3e92aaeb6",
   "metadata": {},
   "source": [
    "<div style=\"background-color: #180161; color: white; padding: 20px; border-radius: 10px;\">\n",
    "    <h2 style=\"text-align: center\">Sanity Check of Data</h2>\n",
    "</div>"
   ]
  },
  {
   "cell_type": "code",
   "execution_count": 5,
   "id": "1067b603-4e0a-49fb-9541-7690b6af729b",
   "metadata": {},
   "outputs": [
    {
     "data": {
      "text/plain": [
       "(2392, 15)"
      ]
     },
     "execution_count": 5,
     "metadata": {},
     "output_type": "execute_result"
    }
   ],
   "source": [
    "df.shape"
   ]
  },
  {
   "cell_type": "code",
   "execution_count": 6,
   "id": "871dd973-dbe5-4e77-98e1-67936b783cdd",
   "metadata": {},
   "outputs": [
    {
     "name": "stdout",
     "output_type": "stream",
     "text": [
      "<class 'pandas.core.frame.DataFrame'>\n",
      "RangeIndex: 2392 entries, 0 to 2391\n",
      "Data columns (total 15 columns):\n",
      " #   Column             Non-Null Count  Dtype  \n",
      "---  ------             --------------  -----  \n",
      " 0   StudentID          2392 non-null   int64  \n",
      " 1   Age                2392 non-null   int64  \n",
      " 2   Gender             2392 non-null   int64  \n",
      " 3   Ethnicity          2392 non-null   int64  \n",
      " 4   ParentalEducation  2392 non-null   int64  \n",
      " 5   StudyTimeWeekly    2392 non-null   float64\n",
      " 6   Absences           2392 non-null   int64  \n",
      " 7   Tutoring           2392 non-null   int64  \n",
      " 8   ParentalSupport    2392 non-null   int64  \n",
      " 9   Extracurricular    2392 non-null   int64  \n",
      " 10  Sports             2392 non-null   int64  \n",
      " 11  Music              2392 non-null   int64  \n",
      " 12  Volunteering       2392 non-null   int64  \n",
      " 13  GPA                2392 non-null   float64\n",
      " 14  GradeClass         2392 non-null   float64\n",
      "dtypes: float64(3), int64(12)\n",
      "memory usage: 280.4 KB\n"
     ]
    }
   ],
   "source": [
    "df.info()"
   ]
  },
  {
   "cell_type": "code",
   "execution_count": 7,
   "id": "dac365d1-9836-4264-9406-119128e6d1b4",
   "metadata": {},
   "outputs": [
    {
     "data": {
      "text/plain": [
       "StudentID            0\n",
       "Age                  0\n",
       "Gender               0\n",
       "Ethnicity            0\n",
       "ParentalEducation    0\n",
       "StudyTimeWeekly      0\n",
       "Absences             0\n",
       "Tutoring             0\n",
       "ParentalSupport      0\n",
       "Extracurricular      0\n",
       "Sports               0\n",
       "Music                0\n",
       "Volunteering         0\n",
       "GPA                  0\n",
       "GradeClass           0\n",
       "dtype: int64"
      ]
     },
     "execution_count": 7,
     "metadata": {},
     "output_type": "execute_result"
    }
   ],
   "source": [
    "df.isnull().sum()"
   ]
  },
  {
   "cell_type": "code",
   "execution_count": 8,
   "id": "a1635619-3559-4e75-924d-cbedc446d977",
   "metadata": {},
   "outputs": [
    {
     "data": {
      "text/plain": [
       "0"
      ]
     },
     "execution_count": 8,
     "metadata": {},
     "output_type": "execute_result"
    }
   ],
   "source": [
    "df.duplicated().sum()"
   ]
  },
  {
   "cell_type": "code",
   "execution_count": 10,
   "id": "1500639d-ace6-478c-862b-3450b06cdce0",
   "metadata": {},
   "outputs": [
    {
     "name": "stdout",
     "output_type": "stream",
     "text": [
      "StudentID\n",
      "1001    1\n",
      "2590    1\n",
      "2592    1\n",
      "2593    1\n",
      "2594    1\n",
      "       ..\n",
      "1798    1\n",
      "1799    1\n",
      "1800    1\n",
      "1801    1\n",
      "3392    1\n",
      "Name: count, Length: 2392, dtype: int64\n",
      "******************************\n",
      "Age\n",
      "15    630\n",
      "16    593\n",
      "17    587\n",
      "18    582\n",
      "Name: count, dtype: int64\n",
      "******************************\n",
      "Gender\n",
      "1    1222\n",
      "0    1170\n",
      "Name: count, dtype: int64\n",
      "******************************\n",
      "Ethnicity\n",
      "0    1207\n",
      "1     493\n",
      "2     470\n",
      "3     222\n",
      "Name: count, dtype: int64\n",
      "******************************\n",
      "ParentalEducation\n",
      "2    934\n",
      "1    728\n",
      "3    367\n",
      "0    243\n",
      "4    120\n",
      "Name: count, dtype: int64\n",
      "******************************\n",
      "StudyTimeWeekly\n",
      "19.833723    1\n",
      "16.082185    1\n",
      "2.543624     1\n",
      "7.971184     1\n",
      "3.403053     1\n",
      "            ..\n",
      "18.116988    1\n",
      "10.324956    1\n",
      "3.074986     1\n",
      "18.434533    1\n",
      "17.819907    1\n",
      "Name: count, Length: 2392, dtype: int64\n",
      "******************************\n",
      "Absences\n",
      "25    93\n",
      "13    93\n",
      "12    92\n",
      "8     91\n",
      "19    90\n",
      "20    90\n",
      "6     88\n",
      "15    87\n",
      "23    86\n",
      "7     86\n",
      "1     85\n",
      "27    84\n",
      "14    84\n",
      "5     83\n",
      "21    83\n",
      "17    81\n",
      "24    81\n",
      "26    80\n",
      "3     79\n",
      "16    79\n",
      "18    79\n",
      "11    71\n",
      "22    71\n",
      "2     69\n",
      "29    69\n",
      "4     69\n",
      "0     67\n",
      "9     67\n",
      "10    61\n",
      "28    54\n",
      "Name: count, dtype: int64\n",
      "******************************\n",
      "Tutoring\n",
      "0    1671\n",
      "1     721\n",
      "Name: count, dtype: int64\n",
      "******************************\n",
      "ParentalSupport\n",
      "2    740\n",
      "3    697\n",
      "1    489\n",
      "4    254\n",
      "0    212\n",
      "Name: count, dtype: int64\n",
      "******************************\n",
      "Extracurricular\n",
      "0    1475\n",
      "1     917\n",
      "Name: count, dtype: int64\n",
      "******************************\n",
      "Sports\n",
      "0    1666\n",
      "1     726\n",
      "Name: count, dtype: int64\n",
      "******************************\n",
      "Music\n",
      "0    1921\n",
      "1     471\n",
      "Name: count, dtype: int64\n",
      "******************************\n",
      "Volunteering\n",
      "0    2016\n",
      "1     376\n",
      "Name: count, dtype: int64\n",
      "******************************\n",
      "GPA\n",
      "0.000000    16\n",
      "4.000000     7\n",
      "2.929196     1\n",
      "2.527607     1\n",
      "2.167615     1\n",
      "            ..\n",
      "1.687900     1\n",
      "2.952146     1\n",
      "0.963375     1\n",
      "3.334972     1\n",
      "2.140014     1\n",
      "Name: count, Length: 2371, dtype: int64\n",
      "******************************\n",
      "GradeClass\n",
      "4.0    1211\n",
      "3.0     414\n",
      "2.0     391\n",
      "1.0     269\n",
      "0.0     107\n",
      "Name: count, dtype: int64\n",
      "******************************\n"
     ]
    }
   ],
   "source": [
    "for i in df.columns:\n",
    "\tprint(df[i].value_counts())\n",
    "\tprint(\"***\" * 10)"
   ]
  },
  {
   "cell_type": "code",
   "execution_count": 11,
   "id": "3860be1f-cab2-4c24-8b9f-464db2748253",
   "metadata": {},
   "outputs": [],
   "source": [
    "df.drop([\"StudentID\"], axis=1, inplace=True)"
   ]
  },
  {
   "cell_type": "markdown",
   "id": "d8631425-c87e-476b-841b-c1bb86626d09",
   "metadata": {},
   "source": [
    "<div style=\"background-color: #180161; color: white; padding: 20px; border-radius: 10px;\">\n",
    "    <h2 style=\"text-align: center\">Exploratory Data Anlaysis (EDA)</h2>\n",
    "</div>"
   ]
  },
  {
   "cell_type": "code",
   "execution_count": null,
   "id": "2219baaa-e1f0-47da-8e5b-6344c89a0afc",
   "metadata": {},
   "outputs": [],
   "source": []
  }
 ],
 "metadata": {
  "kernelspec": {
   "display_name": "Python 3 (ipykernel)",
   "language": "python",
   "name": "python3"
  },
  "language_info": {
   "codemirror_mode": {
    "name": "ipython",
    "version": 3
   },
   "file_extension": ".py",
   "mimetype": "text/x-python",
   "name": "python",
   "nbconvert_exporter": "python",
   "pygments_lexer": "ipython3",
   "version": "3.11.5"
  }
 },
 "nbformat": 4,
 "nbformat_minor": 5
}
